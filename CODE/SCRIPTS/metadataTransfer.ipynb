{
 "cells": [
  {
   "cell_type": "code",
   "execution_count": 2,
   "id": "497ec0af",
   "metadata": {},
   "outputs": [
    {
     "data": {
      "text/html": [
       "<style>.container { width:100% !important; }</style>"
      ],
      "text/plain": [
       "<IPython.core.display.HTML object>"
      ]
     },
     "metadata": {},
     "output_type": "display_data"
    },
    {
     "data": {
      "text/html": [
       "<style>.output_result { max-width:80% !important; }</style>"
      ],
      "text/plain": [
       "<IPython.core.display.HTML object>"
      ]
     },
     "metadata": {},
     "output_type": "display_data"
    }
   ],
   "source": [
    "#==================================================================\n",
    "#Program: metadataTransfer\n",
    "#Version: 1.0\n",
    "#Author: David Helminiak\n",
    "#Date Created: 15 April 2025\n",
    "#Date Last Modified: 15 April 2025\n",
    "#Description: Transfer Patch_list.xlsx to metadata_patches.csv format; use after patchDeeperExtraction.ipynb\n",
    "#Was not written to handle samples with multiple sides\n",
    "#Operation: Move back into main program directory before running.\n",
    "#==================================================================\n",
    "\n",
    "#Have the notebook fill more of the display width\n",
    "from IPython.display import display, HTML\n",
    "display(HTML(\"<style>.container { width:100% !important; }</style>\"))\n",
    "display(HTML(\"<style>.output_result { max-width:80% !important; }</style>\"))\n",
    "\n",
    "#Import remaining libraries\n",
    "import glob\n",
    "import natsort\n",
    "import numpy as np\n",
    "import os \n",
    "import pandas as pd\n"
   ]
  },
  {
   "cell_type": "code",
   "execution_count": 66,
   "id": "a7caca64",
   "metadata": {},
   "outputs": [],
   "source": [
    "#Store directory references\n",
    "#dir_data = '.' + os.path.sep + 'DATA' + os.path.sep\n",
    "dir_data = '.' + os.path.sep + 'DATA-4-9-2025' + os.path.sep\n",
    "dir_patches_data = dir_data + 'PATCHES' + os.path.sep\n",
    "dir_patches_inputPatches = dir_patches_data + 'INPUT_PATCHES' + os.path.sep\n",
    "dir_patches_inputWSI = dir_patches_data + 'INPUT_WSI' + os.path.sep\n",
    "dir_patches_outputPatches = dir_patches_data + 'OUTPUT_PATCHES' + os.path.sep\n",
    "dir_patches_outputVisuals = dir_patches_data + 'OUTPUT_patches_VISUALS' + os.path.sep\n",
    "file_patches_labels = dir_patches_inputPatches + 'Patch_list.xlsx'\n",
    "file_patches_labels_new = dir_patches_inputPatches + 'metadata_patches.csv'\n",
    "\n",
    "#Get list of all the previous patches that are intended for comparison with new extractions\n",
    "metadata = pd.read_excel(file_patches_labels, header=None, names=['name', 'label'], converters={'name':str,'label':str})\n",
    "patchNamesAll_patches, patchLabelsAll_patches = np.array(metadata['name']), np.array(metadata['label'])\n",
    "\n",
    "#Pull out sample names to match against patch filenames\n",
    "names = [name.split('.tif')[0] for name in patchNamesAll_patches]\n",
    "names = np.asarray([name.split('P')[1] for name in names])\n",
    "\n",
    "\n"
   ]
  },
  {
   "cell_type": "code",
   "execution_count": 74,
   "id": "165fa8c2",
   "metadata": {
    "scrolled": true
   },
   "outputs": [],
   "source": [
    "#For every patch image, find its label and assemble metadata from its filename\n",
    "metadata_patches = [['Sample', 'Index', 'Row', 'Column', 'Label']]\n",
    "for sampleFolder in natsort.natsorted(glob.glob(dir_patches_inputPatches + '*')):\n",
    "    if os.path.isdir(sampleFolder): \n",
    "        for patchName in natsort.natsorted(glob.glob(sampleFolder+ os.path.sep + '*.tif')): \n",
    "            sampleNumber, sampleIndex, row, column = os.path.basename(patchName).split('.tif')[0].split('PS')[1].split('_')\n",
    "            sampleName = sampleNumber+'_'+sampleIndex\n",
    "            labelLocation = np.argwhere(names == sampleName)\n",
    "            if labelLocation.shape != (1,1): print('Issue with: ' + patchName)\n",
    "            label = patchLabelsAll_patches[labelLocation[0, 0]]\n",
    "            metadata_patches.append([sampleNumber, sampleIndex, row, column, label])\n",
    "\n",
    "#Save results to disk; manually add sample side labels\n",
    "pd.DataFrame(metadata_patches).to_csv(file_patches_labels_new, index=False, header=False)"
   ]
  },
  {
   "cell_type": "code",
   "execution_count": null,
   "id": "0113f29f",
   "metadata": {},
   "outputs": [],
   "source": []
  }
 ],
 "metadata": {
  "kernelspec": {
   "display_name": "Python 3 (ipykernel)",
   "language": "python",
   "name": "python3"
  },
  "language_info": {
   "codemirror_mode": {
    "name": "ipython",
    "version": 3
   },
   "file_extension": ".py",
   "mimetype": "text/x-python",
   "name": "python",
   "nbconvert_exporter": "python",
   "pygments_lexer": "ipython3",
   "version": "3.11.8"
  }
 },
 "nbformat": 4,
 "nbformat_minor": 5
}
