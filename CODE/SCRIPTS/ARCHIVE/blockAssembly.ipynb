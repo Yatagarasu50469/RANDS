{
 "cells": [
  {
   "cell_type": "code",
   "execution_count": null,
   "id": "be486493",
   "metadata": {
    "scrolled": true
   },
   "outputs": [],
   "source": [
    "#==================================================================\n",
    "#Program: blockAssembly\n",
    "#Version: 1.0\n",
    "#Author: David Helminiak\n",
    "#Date Created: September 4, 2024\n",
    "#Date Last Modified: September 4, 2024\n",
    "#Changelog: 1.0 - Assembly and cropping - September 2024\n",
    "#Description: Assemmbles original lossless .tif block images into a WSI (using .jpg of WSI as reference),\n",
    "#             then crops the WSI, so block extraction process can be matched between samples 2-70 and S70+. \n",
    "#Operation: Move back into main program directory before running.\n",
    "#Status: Deprecated - As not all of the blocks from the WSI are present (excluded due to background levels), complete WSI cannot be reversed out. \n",
    "#==================================================================\n",
    "\n",
    "#Have the notebook fill more of the display width\n",
    "from IPython.display import display, HTML\n",
    "display(HTML(\"<style>.container { width:100% !important; }</style>\"))\n",
    "display(HTML(\"<style>.output_result { max-width:80% !important; }</style>\"))\n",
    "\n",
    "#RNG seed value to ensure run-to-run consistency (-1 to disable)\n",
    "manualSeedValue = 0\n",
    "\n",
    "#Debugging mode\n",
    "debugMode = False\n",
    "\n",
    "asciiFlag = False\n",
    "\n",
    "#Load external libraries\n",
    "exec(open(\"./CODE/EXTERNAL.py\", encoding='utf-8').read())\n",
    "\n"
   ]
  },
  {
   "cell_type": "code",
   "execution_count": null,
   "id": "6ca3425e",
   "metadata": {},
   "outputs": [],
   "source": [
    "#When splitting WSI images, what size should the resulting blocks be (default: 400)\n",
    "#Should remain consistent with block sizes given for training\n",
    "blockSize = 400\n",
    "\n",
    "#Store directory references\n",
    "dir_data = '.' + os.path.sep + 'DATA' + os.path.sep\n",
    "dir_blocks_data = dir_data + 'BLOCKS' + os.path.sep\n",
    "dir_blocks_inputBlocks = dir_blocks_data + 'INPUT_BLOCKS' + os.path.sep\n",
    "file_blocks_labels = dir_blocks_inputBlocks + 'Patch_list.xlsx'\n",
    "dir_blocks_inputWSI = dir_blocks_data + 'INPUT_WSI' + os.path.sep\n",
    "dir_data_reassembledWSI = dir_blocks_data + 'OUTPUTS_REASSEMBLED' + os.path.sep\n",
    "\n",
    "#Create storage location for reassembled WSI\n",
    "if os.path.exists(dir_data_reassembledWSI): shutil.rmtree(dir_data_reassembledWSI)\n",
    "os.makedirs(dir_data_reassembledWSI)\n",
    "\n",
    "#Get list of all the available blocks\n",
    "metadata = pd.read_excel(file_blocks_labels, header=None, names=['name', 'label'], converters={'name':str,'label':str})\n",
    "blockNamesAll_blocks, blockLabelsAll_blocks = np.array(metadata['name']), np.array(metadata['label'])\n",
    "blockSampleNamesAll_blocks = np.array([re.split('PS|_', blockName)[1] for blockName in blockNamesAll_blocks])\n",
    "blockFilenamesAll_blocks = [dir_blocks_inputBlocks + 'S' + blockSampleNamesAll_blocks[blockIndex] + os.path.sep + blockNamesAll_blocks[blockIndex] + '.tif' for blockIndex in range(0, len(blockNamesAll_blocks))]\n",
    "\n"
   ]
  },
  {
   "cell_type": "code",
   "execution_count": null,
   "id": "9bb8247e",
   "metadata": {},
   "outputs": [],
   "source": [
    "#Process each of the samples for which blocks exist\n",
    "for sampleName in tqdm(np.unique(blockSampleNamesAll_blocks), desc='Samples', leave=True, ascii=asciiFlag):\n",
    "\n",
    "    #Isolate blocks for the sample\n",
    "    blockIndices = np.where(blockSampleNamesAll_blocks == sampleName)[0]\n",
    "    blockFilenames = np.asarray(blockFilenamesAll_blocks)[blockIndices]\n",
    "    \n",
    "    #Load the .jpg version of the sample WSI\n",
    "    imageWSI = cv2.cvtColor(cv2.imread(dir_blocks_inputWSI + sampleName + '.jpg', cv2.IMREAD_UNCHANGED), cv2.COLOR_BGR2RGB)\n",
    "\n",
    "    #Find each block location and copy in the .tif data\n",
    "    rebuilt = np.zeros((imageWSI.shape), dtype='uint8')\n",
    "    mask = np.zeros((imageWSI.shape[0],imageWSI.shape[1]), dtype='uint8')\n",
    "    for blockFilename in tqdm(blockFilenames, desc='Blocks', leave=False, ascii=asciiFlag):\n",
    "        blockImage = cv2.cvtColor(cv2.imread(blockFilename, cv2.IMREAD_UNCHANGED), cv2.COLOR_BGR2RGB)\n",
    "        heat_map = cv2.matchTemplate(imageWSI, blockImage, cv2.TM_CCOEFF_NORMED)\n",
    "        y, x = np.unravel_index(np.argmax(heat_map), heat_map.shape)\n",
    "        rebuilt[y:y+blockSize, x:x+blockSize] = blockImage\n",
    "        mask[y:y+blockSize, x:x+blockSize] = 1\n",
    "    \n",
    "    #Verify all blocks were uniquely assigned\n",
    "    if np.sum(mask) != len(blockFilenames)*blockSize*blockSize: \n",
    "        print('\\nError - The total number of pixels in the original blocks does not match with the number that were assigned in the reassembled image.')\n",
    "        break\n",
    "    \n",
    "    #Export the reassembled tif\n",
    "    writeSuccess = cv2.imwrite(dir_data_reassembledWSI+sampleName+'_reassembled.tif', cv2.cvtColor(rebuilt, cv2.COLOR_RGB2BGR), params=(cv2.IMWRITE_TIFF_COMPRESSION, 1))\n",
    "    \n"
   ]
  },
  {
   "cell_type": "code",
   "execution_count": null,
   "id": "813dc46f",
   "metadata": {},
   "outputs": [],
   "source": []
  }
 ],
 "metadata": {
  "kernelspec": {
   "display_name": "Python 3 (ipykernel)",
   "language": "python",
   "name": "python3"
  },
  "language_info": {
   "codemirror_mode": {
    "name": "ipython",
    "version": 3
   },
   "file_extension": ".py",
   "mimetype": "text/x-python",
   "name": "python",
   "nbconvert_exporter": "python",
   "pygments_lexer": "ipython3",
   "version": "3.10.12"
  }
 },
 "nbformat": 4,
 "nbformat_minor": 5
}
