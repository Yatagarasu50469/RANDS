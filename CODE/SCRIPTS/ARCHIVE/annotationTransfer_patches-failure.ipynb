{
 "cells": [
  {
   "cell_type": "code",
   "execution_count": 1,
   "id": "7899445e",
   "metadata": {},
   "outputs": [
    {
     "data": {
      "text/html": [
       "<style>.container { width:100% !important; }</style>"
      ],
      "text/plain": [
       "<IPython.core.display.HTML object>"
      ]
     },
     "metadata": {},
     "output_type": "display_data"
    },
    {
     "data": {
      "text/html": [
       "<style>.output_result { max-width:80% !important; }</style>"
      ],
      "text/plain": [
       "<IPython.core.display.HTML object>"
      ]
     },
     "metadata": {},
     "output_type": "display_data"
    }
   ],
   "source": [
    "#==================================================================\n",
    "#Program: AnnotationTransfer\n",
    "#Version: 1.0\n",
    "#Author(s): David Helminiak\n",
    "#Date Created: 20 June 2025\n",
    "#Date Last Modified: 20 June 2025\n",
    "#Description: Transfer annotations from corrected WSI to uncorrected patches\n",
    "#WARNING - Written to handle only one side per sample\n",
    "#==================================================================\n",
    "\n",
    "#Have the notebook fill more of the display width\n",
    "from IPython.display import display, HTML\n",
    "display(HTML(\"<style>.container { width:100% !important; }</style>\"))\n",
    "display(HTML(\"<style>.output_result { max-width:80% !important; }</style>\"))\n",
    "\n",
    "#Block resolution\n",
    "resolutionHeight, resolutionWidth = 2200, 2748\n",
    "\n",
    "#Specify input/output patch size (symmetric)\n",
    "patchSize = 400\n",
    "\n",
    "\n"
   ]
  },
  {
   "cell_type": "code",
   "execution_count": 2,
   "id": "78212c1f",
   "metadata": {},
   "outputs": [],
   "source": [
    "#Raise the maximum image size for opencv; note that this can allow for decompression bomb DOS attacks if an untrusted image ends up as an input\n",
    "import os \n",
    "os.environ[\"OPENCV_IO_MAX_IMAGE_PIXELS\"] = pow(2,40).__str__()\n",
    "\n",
    "from IPython import get_ipython\n",
    "if get_ipython().__class__.__name__ == 'ZMQInteractiveShell': jupyterNotebook = True\n",
    "else: jupyterNotebook = False\n",
    "\n",
    "import copy\n",
    "import cv2\n",
    "import glob\n",
    "import logging\n",
    "import matplotlib.pyplot as plt\n",
    "import natsort\n",
    "import numpy as np\n",
    "import pandas as pd\n",
    "import ray\n",
    "import shutil\n",
    "import time\n",
    "\n",
    "from basicpy import BaSiC\n",
    "from contextlib import nullcontext\n",
    "from ray.util.multiprocessing import Pool\n",
    "\n",
    "if jupyterNotebook: from tqdm.notebook import tqdm\n",
    "else: from tqdm.auto import tqdm\n",
    "\n",
    "#Pandas option to prevent terminal outputs\n",
    "pd.set_option('future.no_silent_downcasting', True)\n",
    "\n",
    "#Define logging levels and behaviors\n",
    "logging.root.setLevel(logging.ERROR)\n",
    "logging.raiseExceptions = False\n",
    "\n",
    "#Ray actor for holding global progress in parallel sampling operations\n",
    "@ray.remote(num_cpus=0)\n",
    "class SamplingProgress_Actor:\n",
    "    def __init__(self): self.current = 0.0\n",
    "    def update(self): self.current += 1\n",
    "    def getCurrent(self): return self.current\n",
    "\n"
   ]
  },
  {
   "cell_type": "code",
   "execution_count": 3,
   "id": "2703e0f2",
   "metadata": {},
   "outputs": [],
   "source": [
    "#Store directory references\n",
    "dir_in_cWSI = './INPUTS/WSI_CORRECTED/'\n",
    "dir_in_cPatches = './INPUTS/PATCHES_CORRECTED/'\n",
    "dir_in_uBlocks = './INPUTS/BLOCKS_UNCORRECTED/'\n",
    "\n",
    "dir_out_uWSI = './OUTPUTS/WSI_UNCORRECTED/'\n",
    "dir_out_uPatches = './OUTPUTS/PATCHES_UNCORRECTED/'\n",
    "dir_out_cWSI = './OUTPUTS/WSI_CORRECTED/'\n",
    "dir_out_cPatches = './OUTPUTS/PATCHES_CORRECTED/'\n",
    "dir_out_blockComparison = './OUTPUTS/BLOCK_COMPARISON/'\n",
    "\n",
    "#Ensure output directories exists and are empty\n",
    "if os.path.exists(dir_out_uWSI): shutil.rmtree(dir_out_uWSI)\n",
    "os.makedirs(dir_out_uWSI)\n",
    "if os.path.exists(dir_out_uPatches): shutil.rmtree(dir_out_uPatches)\n",
    "os.makedirs(dir_out_uPatches)\n",
    "if os.path.exists(dir_out_cWSI): shutil.rmtree(dir_out_cWSI)\n",
    "os.makedirs(dir_out_cWSI)\n",
    "if os.path.exists(dir_out_cPatches): shutil.rmtree(dir_out_cPatches)\n",
    "os.makedirs(dir_out_cPatches)\n",
    "if os.path.exists(dir_out_blockComparison): shutil.rmtree(dir_out_blockComparison)\n",
    "os.makedirs(dir_out_blockComparison)\n",
    "\n",
    "#Derive how blocks should be cropped to allow for even patch splits\n",
    "cropHeight = resolutionHeight-(int(resolutionHeight/patchSize)*patchSize)\n",
    "cropWidth = resolutionWidth-(int(resolutionWidth/patchSize)*patchSize)\n",
    "cropTop, cropLeft = cropHeight//2, cropWidth//2\n",
    "cropBottom, cropRight = cropTop+(cropHeight%2), cropLeft+(cropWidth%2)\n"
   ]
  },
  {
   "cell_type": "code",
   "execution_count": 5,
   "id": "2eaef39e",
   "metadata": {
    "scrolled": true
   },
   "outputs": [
    {
     "data": {
      "application/vnd.jupyter.widget-view+json": {
       "model_id": "5b9ead8639c44d71a8ab83e167f1df4f",
       "version_major": 2,
       "version_minor": 0
      },
      "text/plain": [
       "Samples:   0%|          | 0/76 [00:00<?, ?it/s]"
      ]
     },
     "metadata": {},
     "output_type": "display_data"
    },
    {
     "data": {
      "application/vnd.jupyter.widget-view+json": {
       "model_id": "",
       "version_major": 2,
       "version_minor": 0
      },
      "text/plain": [
       "Blocks:   0%|          | 0/36 [00:00<?, ?it/s]"
      ]
     },
     "metadata": {},
     "output_type": "display_data"
    }
   ],
   "source": [
    "#Obtain list of sample names of available WSI .jpg images\n",
    "sampleNames = [os.path.splitext(name)[0] for name in os.listdir(dir_in_cWSI)]\n",
    "\n",
    "#Read in all patch metadata; converting annotations for ease of manipulation\n",
    "metadataFile = dir_in_cPatches+'Patches_Label.csv'\n",
    "metadata = pd.read_csv(metadataFile, header=0, names=['Sample Number', 'Index', 'Row', 'Column', 'Label', 'Edge', 'Boundary'], converters={'Sample Number':int, 'Index':int, 'Row':int, 'Column':int, 'Label':str, 'Edge':str, 'Boundary':str})\n",
    "metadata['Label'] = metadata['Label'].replace('N', 1)\n",
    "metadata['Label'] = metadata['Label'].replace('T', 2)\n",
    "metadata['Label'] = metadata['Label'].apply(pd.to_numeric)\n",
    "metadata['Edge'] = metadata['Edge'].replace('N', 1)\n",
    "metadata['Edge'] = metadata['Edge'].replace('Y', 2)\n",
    "metadata['Edge'] = metadata['Edge'].apply(pd.to_numeric)\n",
    "metadata['Boundary'] = metadata['Boundary'].replace('N', 1)\n",
    "metadata['Boundary'] = metadata['Boundary'].replace('Y', 2)\n",
    "metadata['Boundary'] = metadata['Boundary'].apply(pd.to_numeric)\n",
    "\n",
    "#For each sample transfer annotations to uncorrected blocks and form crop-stitched variant of WSI\n",
    "for sampleName in tqdm(natsort.natsorted(sampleNames), total=len(sampleNames), desc='Samples', leave=True): \n",
    "    \n",
    "    #load WSI and create array to hold pixel-level annotations; \n",
    "    imageWSI = cv2.imread(dir_in_cWSI + sampleName + '.jpg', cv2.IMREAD_UNCHANGED)\n",
    "    annotationWSI = np.zeros((imageWSI.shape[0], imageWSI.shape[1], 3))\n",
    "    grayImageWSI = cv2.cvtColor(imageWSI, cv2.COLOR_BGR2GRAY)\n",
    "    \n",
    "    #Extract applicable patch data\n",
    "    sampleMetadata = metadata.loc[metadata['Sample Number'] == int(sampleName.split('_')[0])]\n",
    "    patchAnnotations = np.stack((sampleMetadata['Label'].to_numpy(), sampleMetadata['Edge'].to_numpy(), sampleMetadata['Boundary'].to_numpy())).T\n",
    "    patchPositions = np.vstack((sampleMetadata['Row'].to_numpy(), sampleMetadata['Column'].to_numpy())).T\n",
    "    \n",
    "    #Convert annotations from patch-level to pixel-level\n",
    "    for index, position in enumerate(patchPositions): annotationWSI[position[0]:position[0]+patchSize, position[1]:position[1]+patchSize] = patchAnnotations[index]\n",
    "    \n",
    "    #Load uncorrected sample block images\n",
    "    blockFilenames = natsort.natsorted(glob.glob(dir_in_uBlocks+sampleName+'/*'))\n",
    "    blockImages = [cv2.imread(filename, cv2.IMREAD_UNCHANGED) for filename in blockFilenames]\n",
    "    \n",
    "    #Extract WSI block-level dimensions, asuming block filenames are 1 indexed and the last indexed is the bottom right\n",
    "    _, _, _, row, column = os.path.basename(blockFilenames[-1]).split('.')[0].split('_')\n",
    "    blocksY, blocksX = int(row.split('R')[1]), int(column.split('C')[1])\n",
    "    \n",
    "    #Create corrected versions of block images\n",
    "    H, S, V = np.split(np.asarray([cv2.cvtColor(image.astype('float32'), cv2.COLOR_BGR2HSV_FULL) for image in blockImages]), 3, -1)\n",
    "    H, S, V = H[..., 0], S[..., 0], V[..., 0]\n",
    "    basic = BaSiC(fitting_mode='approximate', optimization_tol=1e-6, reweighting_tol=1e-3, sort_intensity=True)\n",
    "    V = basic.fit_transform(V)\n",
    "    V = (V / V.max())*255.0\n",
    "    \n",
    "    blockImagesCorrected = np.asarray([np.round(cv2.cvtColor(image, cv2.COLOR_HSV2BGR_FULL)).astype('uint8') for image in np.stack([H, S, V], -1)])\n",
    "    del H, S, V\n",
    "    \n",
    "    #Extract annotations for blocks and visualize for manually conducted comparitive audit\n",
    "    blockAnnotations = []\n",
    "    for index, blockImage in tqdm(enumerate(blockImages), total=len(blockImages), desc='Blocks', leave=False): \n",
    "        \n",
    "        #Find block in WSI, extracting and storing its annotations\n",
    "        matchMap = cv2.matchTemplate(grayImageWSI, cv2.cvtColor(blockImage, cv2.COLOR_BGR2GRAY), cv2.TM_CCOEFF_NORMED)\n",
    "        startRow, startColumn = np.unravel_index(np.argmax(matchMap), matchMap.shape)\n",
    "        blockAnnotations.append(annotationWSI[startRow:startRow+resolutionHeight, startColumn:startColumn+resolutionWidth])\n",
    "        \n",
    "        #Extract and create side-by-side comparison of the block images for visual audit\n",
    "        extractedBlock = imageWSI[startRow:startRow+resolutionHeight, startColumn:startColumn+resolutionWidth]\n",
    "        blockName = os.path.basename(blockFilenames[index]).split('.')[0]\n",
    "        fig, ax = plt.subplots(nrows=1, ncols=3, figsize=(12, 4))\n",
    "        ax[0].imshow(cv2.cvtColor(extractedBlock, cv2.COLOR_BGR2RGB))\n",
    "        ax[1].imshow(cv2.cvtColor(blockImage, cv2.COLOR_BGR2RGB))\n",
    "        ax[2].imshow(cv2.cvtColor(blockImagesCorrected[index], cv2.COLOR_BGR2RGB))\n",
    "        ax[0].set_title('Original')\n",
    "        ax[1].set_title('Uncorrected')\n",
    "        ax[2].set_title('BaSiC Flatfield Corrected')\n",
    "        fig.suptitle('Sample ' + sampleName)\n",
    "        plt.tight_layout()\n",
    "        filenameOutput = dir_out_blockComparison + blockName + '.tif'\n",
    "        plt.savefig(filenameOutput)\n",
    "        plt.close()\n",
    "    \n",
    "    #Crop block images and matched pixel-level annotation maps\n",
    "    blockImages = np.asarray(blockImages)[:, cropTop:-cropBottom, cropLeft:-cropRight, :]\n",
    "    blockImagesCorrected = np.asarray(blockImagesCorrected)[:, cropTop:-cropBottom, cropLeft:-cropRight, :]\n",
    "    blockAnnotations = np.asarray(blockAnnotations)[:, cropTop:-cropBottom, cropLeft:-cropRight, :]\n",
    "\n",
    "    #Form new complete WSI and annotation map\n",
    "    blockHeight, blockWidth = blockImages[0].shape[0], blockImages[0].shape[1]\n",
    "    height, width = blocksY*blockHeight,  blocksX*blockWidth\n",
    "    uImageWSI = blockImages.reshape(blocksY, blocksX, blockHeight, blockWidth, 3)\n",
    "    uImageWSI = uImageWSI.swapaxes(1,2).reshape(height, width, 3)\n",
    "    cImageWSI = blockImagesCorrected.reshape(blocksY, blocksX, blockHeight, blockWidth, 3)\n",
    "    cImageWSI = cImageWSI.swapaxes(1,2).reshape(height, width, 3)\n",
    "    annotationWSI = blockAnnotations.reshape(blocksY, blocksX, blockHeight, blockWidth, 3)\n",
    "    annotationWSI = annotationWSI.swapaxes(1,2).reshape(height, width, 3)\n",
    "    \n",
    "    #Crop WSI and annotation map to the foreground area, using red-channel values > 5 as a threshold\n",
    "    x, y, w, h = cv2.boundingRect((uImageWSI[:,:,2]>=5)*np.uint8(1))\n",
    "    uImageWSI = uImageWSI[y:y+h, x:x+w]\n",
    "    cImageWSI = cImageWSI[y:y+h, x:x+w]\n",
    "    annotationWSI = annotationWSI[y:y+h, x:x+w]\n",
    "    \n",
    "    #Pad (as symmetrically as possible) for an even division by the configured patch size\n",
    "    padHeight = (int(np.ceil(uImageWSI.shape[0]/patchSize))*patchSize)-uImageWSI.shape[0]\n",
    "    padWidth = (int(np.ceil(uImageWSI.shape[1]/patchSize))*patchSize)-uImageWSI.shape[1]\n",
    "    padTop, padLeft = padHeight//2, padWidth//2\n",
    "    padBottom, padRight = padTop+(padHeight%2), padLeft+(padWidth%2)\n",
    "    uImageWSI = np.pad(uImageWSI, ((padTop, padBottom), (padLeft, padRight), (0, 0)))\n",
    "    cImageWSI = np.pad(cImageWSI, ((padTop, padBottom), (padLeft, padRight), (0, 0)))\n",
    "    annotationWSI = np.pad(annotationWSI, ((padTop, padBottom), (padLeft, padRight), (0, 0)))\n",
    "    \n",
    "    #Export the new WSI\n",
    "    writeSuccess = cv2.imwrite(dir_out_uWSI+sampleName+'.tif', uImageWSI, params=(cv2.IMWRITE_TIFF_COMPRESSION, 1))\n",
    "    writeSuccess = cv2.imwrite(dir_out_cWSI+sampleName+'.tif', cImageWSI, params=(cv2.IMWRITE_TIFF_COMPRESSION, 1))\n",
    "    \n",
    "    #Split the WSI and annotation map into patches and flatten\n",
    "    numPatchesRow, numPatchesCol = uImageWSI.shape[0]//patchSize, uImageWSI.shape[1]//patchSize\n",
    "    uImageWSI = uImageWSI.reshape(numPatchesRow, patchSize, numPatchesCol, patchSize, uImageWSI.shape[2]).swapaxes(1,2)\n",
    "    uImageWSI = uImageWSI.reshape(-1, uImageWSI.shape[2], uImageWSI.shape[3], uImageWSI.shape[4])\n",
    "    cImageWSI = cImageWSI.reshape(numPatchesRow, patchSize, numPatchesCol, patchSize, cImageWSI.shape[2]).swapaxes(1,2)\n",
    "    cImageWSI = cImageWSI.reshape(-1, cImageWSI.shape[2], cImageWSI.shape[3], cImageWSI.shape[4])\n",
    "    annotationWSI = annotationWSI.reshape(numPatchesRow, patchSize, numPatchesCol, patchSize, annotationWSI.shape[2]).swapaxes(1,2)\n",
    "    annotationWSI = annotationWSI.reshape(-1, annotationWSI.shape[2], annotationWSI.shape[3], annotationWSI.shape[4])\n",
    "    \n",
    "    #Export patches\n",
    "    patchLocations, patchNames, uPatchFilenames, cPatchFilenames = [], [], [], []\n",
    "    for patchIndex, (rowNum, colNum) in tqdm(enumerate(np.ndindex((numPatchesRow,numPatchesCol))), total=numPatchesRow*numPatchesCol, desc='Patches', leave=False):\n",
    "        image = imageWSI[patchIndex]\n",
    "        locationRow, locationColumn= rowNum*patchSize, colNum*patchSize\n",
    "        patchLocations.append([locationRow, locationColumn])\n",
    "        patchName = sampleName+'_'+str(patchIndex)+'_'+str(locationRow)+'_'+str(locationColumn)\n",
    "        patchNames.append(patchName)\n",
    "        uPatchFilename = 'PS' + patchName + '.tif'\n",
    "        cPatchFilename = 'PS' + patchName + '.tif'\n",
    "        writeSuccess = cv2.imwrite(dir_out_uPatches+uPatchFilename, uImageWSI[patchIndex], params=(cv2.IMWRITE_TIFF_COMPRESSION, 1))\n",
    "        writeSuccess = cv2.imwrite(dir_out_cPatches+cPatchFilename, uImageWSI[patchIndex], params=(cv2.IMWRITE_TIFF_COMPRESSION, 1))\n",
    "        uPatchFilenames.append(uPatchFilename)\n",
    "        cPatchFilenames.append(cPatchFilename)\n",
    "\n",
    "    #Merge and export labels\n",
    "    patchLabels = []\n",
    "    \n",
    "    \n",
    "    break\n",
    "    "
   ]
  },
  {
   "cell_type": "code",
   "execution_count": 32,
   "id": "14d08aca",
   "metadata": {},
   "outputs": [],
   "source": [
    "annotationValues = np.unique(annotation)"
   ]
  },
  {
   "cell_type": "code",
   "execution_count": 33,
   "id": "b11f565f",
   "metadata": {},
   "outputs": [
    {
     "data": {
      "text/plain": [
       "array([1., 2.])"
      ]
     },
     "execution_count": 33,
     "metadata": {},
     "output_type": "execute_result"
    }
   ],
   "source": [
    "metadata['Label'] = metadata['Label'].replace('N', 1)\n",
    "metadata['Label'] = metadata['Label'].replace('T', 2)\n",
    "metadata['Label'] = metadata['Label'].apply(pd.to_numeric)\n",
    "metadata['Edge'] = metadata['Edge'].replace('N', 1)\n",
    "metadata['Edge'] = metadata['Edge'].replace('Y', 2)\n",
    "metadata['Edge'] = metadata['Edge'].apply(pd.to_numeric)\n",
    "metadata['Boundary'] = metadata['Boundary'].replace('N', 1)\n",
    "metadata['Boundary'] = metadata['Boundary'].replace('Y', 2)\n",
    "\n",
    "\n"
   ]
  },
  {
   "cell_type": "code",
   "execution_count": null,
   "id": "961aaf0e",
   "metadata": {},
   "outputs": [],
   "source": []
  },
  {
   "cell_type": "code",
   "execution_count": 40,
   "id": "2594a4c4",
   "metadata": {},
   "outputs": [
    {
     "data": {
      "text/plain": [
       "(400, 3)"
      ]
     },
     "execution_count": 40,
     "metadata": {},
     "output_type": "execute_result"
    }
   ],
   "source": [
    "#Label \"edge\" refers to patches located at the interface between tissue and background.\n",
    "#Label \"boundary\" refers to patches situated between normal and tumor tissue.\n",
    "\n",
    "\n"
   ]
  },
  {
   "cell_type": "code",
   "execution_count": 63,
   "id": "45645f65",
   "metadata": {
    "scrolled": true
   },
   "outputs": [
    {
     "name": "stdout",
     "output_type": "stream",
     "text": [
      "Error - Edge label was found but was not present natively for:  41\n",
      "Error - Edge label was found but was not present natively for:  42\n",
      "Error - Edge label was found but was not present natively for:  43\n",
      "Error - Edge label was found but was not present natively for:  50\n",
      "Error - Edge label was found but was not present natively for:  54\n",
      "Error - Edge label was found but was not present natively for:  55\n",
      "Error - Edge label was found but was not present natively for:  56\n",
      "Error - Edge label was found but was not present natively for:  57\n",
      "Error - Edge label was found but was not present natively for:  58\n",
      "Error - Edge label was found but was not present natively for:  70\n",
      "Error - Edge label was found but was not present natively for:  71\n",
      "Error - Edge label was found but was not present natively for:  72\n",
      "Error - Edge label was found but was not present natively for:  93\n",
      "Error - Edge label was found but was not present natively for:  94\n",
      "Error - Edge label was found but was not present natively for:  95\n",
      "Error - Edge label was found but was not present natively for:  103\n",
      "Error - Edge label was found but was not present natively for:  130\n",
      "Error - Edge label was found but was not present natively for:  131\n",
      "Error - Edge label was found but was not present natively for:  132\n",
      "Error - Edge label was found but was not present natively for:  138\n",
      "Error - Edge label was found but was not present natively for:  139\n",
      "Error - Edge label was found but was not present natively for:  140\n",
      "Error - Edge label was found but was not present natively for:  161\n",
      "Error - Edge label was found but was not present natively for:  162\n",
      "Error - Edge label was found but was not present natively for:  163\n",
      "Error - Edge label was found but was not present natively for:  171\n",
      "Error - Edge label was found but was not present natively for:  198\n",
      "Error - Edge label was found but was not present natively for:  199\n",
      "Error - Edge label was found but was not present natively for:  200\n",
      "Error - Edge label was found but was not present natively for:  205\n",
      "Error - Edge label was found but was not present natively for:  235\n",
      "Error - Edge label was found but was not present natively for:  239\n",
      "Error - Edge label was found but was not present natively for:  269\n",
      "Error - Edge label was found but was not present natively for:  274\n",
      "Error - Edge label was found but was not present natively for:  304\n",
      "Error - Edge label was found but was not present natively for:  308\n",
      "Error - Edge label was found but was not present natively for:  315\n",
      "Error - Edge label was found but was not present natively for:  338\n",
      "Error - Edge label was found but was not present natively for:  342\n",
      "Error - Edge label was found but was not present natively for:  349\n",
      "Error - Edge label was found but was not present natively for:  372\n",
      "Error - Edge label was found but was not present natively for:  376\n",
      "Error - Edge label was found but was not present natively for:  384\n",
      "Error - Edge label was found but was not present natively for:  406\n",
      "Error - Edge label was found but was not present natively for:  411\n",
      "Error - Edge label was found but was not present natively for:  418\n",
      "Error - Edge label was found but was not present natively for:  440\n",
      "Error - Edge label was found but was not present natively for:  445\n",
      "Error - Edge label was found but was not present natively for:  452\n",
      "Error - Edge label was found but was not present natively for:  479\n",
      "Error - Edge label was found but was not present natively for:  514\n",
      "Error - Edge label was found but was not present natively for:  548\n",
      "Error - Edge label was found but was not present natively for:  576\n",
      "Error - Edge label was found but was not present natively for:  583\n",
      "Error - Edge label was found but was not present natively for:  584\n",
      "Error - Edge label was found but was not present natively for:  585\n",
      "Error - Edge label was found but was not present natively for:  610\n",
      "Error - Edge label was found but was not present natively for:  619\n",
      "Error - Edge label was found but was not present natively for:  643\n",
      "Error - Edge label was found but was not present natively for:  653\n",
      "Error - Edge label was found but was not present natively for:  677\n",
      "Error - Edge label was found but was not present natively for:  687\n",
      "Error - Edge label was found but was not present natively for:  711\n",
      "Error - Edge label was found but was not present natively for:  722\n",
      "Error - Edge label was found but was not present natively for:  741\n",
      "Error - Edge label was found but was not present natively for:  742\n",
      "Error - Edge label was found but was not present natively for:  743\n",
      "Error - Edge label was found but was not present natively for:  744\n",
      "Error - Edge label was found but was not present natively for:  756\n",
      "Error - Edge label was found but was not present natively for:  771\n",
      "Error - Edge label was found but was not present natively for:  772\n",
      "Error - Edge label was found but was not present natively for:  773\n",
      "Error - Edge label was found but was not present natively for:  791\n",
      "Error - Edge label was found but was not present natively for:  792\n",
      "Error - Edge label was found but was not present natively for:  803\n",
      "Error - Edge label was found but was not present natively for:  804\n",
      "Error - Edge label was found but was not present natively for:  825\n",
      "Error - Edge label was found but was not present natively for:  826\n",
      "Error - Edge label was found but was not present natively for:  837\n",
      "Error - Edge label was found but was not present natively for:  838\n",
      "Error - Edge label was found but was not present natively for:  861\n",
      "Error - Edge label was found but was not present natively for:  862\n",
      "Error - Edge label was found but was not present natively for:  863\n",
      "Error - Edge label was found but was not present natively for:  869\n",
      "Error - Edge label was found but was not present natively for:  870\n",
      "Error - Edge label was found but was not present natively for:  871\n",
      "Error - Edge label was found but was not present natively for:  899\n",
      "Error - Edge label was found but was not present natively for:  900\n",
      "Error - Edge label was found but was not present natively for:  901\n",
      "Error - Edge label was found but was not present natively for:  902\n"
     ]
    }
   ],
   "source": [
    "\n",
    "#Merge pixel-level class labels back to patch-level class labels\n",
    "patchLabels = []\n",
    "for index, annotation in enumerate(annotationWSI):\n",
    "    \n",
    "    #Reset tags\n",
    "    tagBenign, tagMalignant, tagBoundary, tagEdge = False, False, False, False\n",
    "    \n",
    "    #Extract unique values presnet in each class annotation map\n",
    "    dataLabel, dataEdge, dataBoundary = np.split(annotation, 3, -1)\n",
    "    uniqueLabel, uniqueEdge, uniqueBoundary = np.unique(dataLabel), np.unique(dataEdge), np.unique(dataBoundary)\n",
    "    \n",
    "    #Ugh, just because the area encompassed originally had mixed, doesn't mean the new are is mixed\n",
    "    #just because it had malignant and benign doesn't make it mixed...we don't have actual per-pixel values \n",
    "    \n",
    "    \n",
    "    \n",
    "    #Combine and validate class labels\n",
    "    \n",
    "    if (2 in uniqueLabel): tagMalignant = True\n",
    "    if (2 in uniqueBoundary): tagBoundary = True\n",
    "    if (2 in uniqueEdge): #may not be an edge...\n",
    "    \n",
    "    #If it has both \n",
    "    \n",
    "    if (1 in uniqueLabel): tagBenign = True\n",
    "    \n",
    "    if (0 in uniqueLabel): tagEdge = True\n",
    "        \n",
    "    if (2 in uniqueEdge): \n",
    "        tagEdge = True\n",
    "        if not (0 in uniqueLabel): print('Error - Edge label was found but was not present natively for: ', index)\n",
    "    \n",
    "    #U\n",
    "    if tagBenign and (2 in uniqueBoundary): print('Error - Boundary label was found but was not present natively for: ', index)\n",
    "    \n",
    "    if tagBenign and tagMalignant: \n",
    "        tagBoundary = True\n",
    "        if not (2 in uniqueBoundary): \n",
    "    \n",
    "        \n",
    "    \n",
    "    tagMalignant = 'Y' if tagMalignant else 'N'\n",
    "    tagEdge = 'Y' if tagEdge else 'N'\n",
    "    tagBoundary = 'Y' if tagBoundary else 'N'\n",
    "    patchLabels.append([tagMalignant, tagBoundary, tagEdge])\n",
    "patchLabels = np.asarray(patchLabels)\n"
   ]
  },
  {
   "cell_type": "code",
   "execution_count": 69,
   "id": "744ab1bd",
   "metadata": {},
   "outputs": [
    {
     "data": {
      "text/plain": [
       "array([1], dtype=int64)"
      ]
     },
     "execution_count": 69,
     "metadata": {},
     "output_type": "execute_result"
    }
   ],
   "source": [
    "np.unique(sampleMetadata['Label'].to_numpy())"
   ]
  },
  {
   "cell_type": "code",
   "execution_count": null,
   "id": "85b52088",
   "metadata": {
    "scrolled": true
   },
   "outputs": [],
   "source": []
  },
  {
   "cell_type": "code",
   "execution_count": 55,
   "id": "746709f0",
   "metadata": {},
   "outputs": [
    {
     "data": {
      "text/plain": [
       "array([1, 1, 1, ..., 2, 2, 2], dtype=int64)"
      ]
     },
     "execution_count": 55,
     "metadata": {},
     "output_type": "execute_result"
    }
   ],
   "source": [
    "metadata['Label'].to_numpy()"
   ]
  },
  {
   "cell_type": "code",
   "execution_count": null,
   "id": "990d83d1",
   "metadata": {},
   "outputs": [],
   "source": [
    "#Salutations,\n",
    "\n",
    "#Kept thinking about the need for raw data for classifier training/testing and was able to come up with a script to transfer the annotations back out.\n",
    "\n",
    "#Please find links here for both new uncorrected and corrected patches/WSI/annotations for dataset2-4x (72-179).\n",
    "#Annotations were transferred from Tianling's most recent generation (to include benign/malignant-label, edge, and boundary classes; 20% background thresholding).\n",
    "#If needed for dataset1-4x and/or dataset2-10x, we will need to perform the same re-annotation process for those sets. \n",
    "\n",
    "#The processing for the uncorrected data matches current GUI acquisition behaviors (absolutely no flatfield or darkfield correction)\n",
    "#Since no stitching is being performed (just some minor boundary cropping), this does add duplicate information among the extracted patches (from the overlap between blocks).\n",
    "#Likely to have more false positives/negatives than the corrected/stitched data produces, but results will be more realistic. \n",
    "\n",
    "#For a more direct/fair 1-to-1 comparison against 'corrected' data, this same crop processing and patch extraction was done with BaSiC flatfield corrected block images.\n",
    "#The exact implementation of the BaSiC algorithm being applied is different than that used in the previous/original sets, but matches exactly with what is available/possible in the new GUI (algorithm can only be applied to all blocks after scanning finishes).\n",
    "#Primary differences:\n",
    "# -More recently released implementation (different optimization algorithm and parameters)\n",
    "# -Only applies to the Value channel (preserves saturation channel entirely)\n",
    "# -Scales intensities to the correct/allowable range before conversion back to RGB\n",
    "# -Removes rounding errors previously observed with MATLAB processing\n",
    "# -Does not apply darkfield correction\n",
    "\n",
    "#Broadly, the procedure for the actual annotation transfer was:\n",
    "#1) Load patch-level annotations as assigned to corrected patches (extracted from corrected/stitched WSI)\n",
    "#2) 'Fill' encompassed patch area with annotations in corrected/stitched WSI coordinate space\n",
    "#3) Locate corrected block image inside corrected/stitched WSI\n",
    "#4) Transfer annotations from corrected/stitched WSI coordinate space to that of the corrected block images (which match directly with uncorrected block images)\n",
    "#5) Perform cropping/padding/WSI-combination/patch-extraction (for both uncorrected and corrected block images) exactly as currently done in acqusition GUI\n",
    "#6) Export label data (exacatly the same for both exported uncorrected and corrected patch sets)\n",
    "#7) Visually confirm every block image was correctly matched from the original corrected/stitched WSI\n"
   ]
  },
  {
   "cell_type": "code",
   "execution_count": null,
   "id": "f0318858",
   "metadata": {
    "scrolled": false
   },
   "outputs": [],
   "source": []
  },
  {
   "cell_type": "code",
   "execution_count": null,
   "id": "76980368",
   "metadata": {},
   "outputs": [],
   "source": []
  },
  {
   "cell_type": "code",
   "execution_count": 70,
   "id": "fd908bfd",
   "metadata": {},
   "outputs": [],
   "source": [
    "# Labels based on the sample level: pure normal and pure tumor first\n",
    "label_Normal = {\"72\", \"74\", \"80\", \"83\", \"96\", \"98\", \"100\", \"118\", \"119\", \"120\", \"122\", \"123\",\n",
    "                \"124\", \"126\", \"127\", \"128\", \"129\", \"130\", \"131\", \"134\", \"137\", \"138\", \"140\", \"141\",\n",
    "                \"143\", \"144\", \"145\", \"146\", \"149\", \"154\", \"165\", \"169\", \"172\", \"173\"}\n",
    "\n",
    "label_Tumor = {\"75\", \"84\", \"88\", \"91\", \"99\", \"101\", \"105\"}"
   ]
  },
  {
   "cell_type": "code",
   "execution_count": 71,
   "id": "27f7be6d",
   "metadata": {},
   "outputs": [
    {
     "data": {
      "text/plain": [
       "34"
      ]
     },
     "execution_count": 71,
     "metadata": {},
     "output_type": "execute_result"
    }
   ],
   "source": [
    "len(label_Normal)"
   ]
  },
  {
   "cell_type": "code",
   "execution_count": 126,
   "id": "d69eadc9",
   "metadata": {},
   "outputs": [],
   "source": [
    "allSamples = np.asarray([sampleName.split('_')[0] for sampleName in natsort.natsorted(sampleNames)]).astype(int)\n",
    "\n",
    "normalSamples = np.asarray([72, 74, 80, 83, 96, 98, 100, 118, 119, 120, 122, 123, 124, 126, 127, 128, \n",
    "                               129, 130, 131, 134, 137, 138, 140, 141, 143, 144, 145, 146, 149, 154, 165, \n",
    "                               169, 172, 173])\n",
    "\n",
    "malignantSamples = np.asarray([75, 84, 88, 91, 99, 101, 105])\n",
    "\n",
    "\n",
    "mixedSamples = np.asarray([sampleName for sampleName in [sampleName for sampleName in allSamples if sampleName not in normalSamples] if sampleName not in malignantSamples])\n",
    "\n",
    "#[ 73,  76,  77,  78,  79,  81,  82,  85,  86,  90,  92,  93,  94, 95,  97, 103, 104, 106, 109, 110, 111, 112, 113, 114, 125, 132, 133, 135, 136, 139, 142, 160, 166, 174, 179]\n",
    "\n",
    "#Mixed samples with avaialable WSI/blocks/patches, but no annotation maps...\n",
    "#[ 73,  76,  77,  78,  79,  81,  82,  85,  86,  90,  92,  93,  94, 95,  97, 103, 104, 106, 109, 110, 111, 112, 113, 114, 125, 132, 133, 135, 136, 139, 142, 160, 166, 174, 179]\n",
    "\n",
    "\n"
   ]
  },
  {
   "cell_type": "code",
   "execution_count": 127,
   "id": "671ce61c",
   "metadata": {
    "scrolled": true
   },
   "outputs": [
    {
     "data": {
      "text/plain": [
       "35"
      ]
     },
     "execution_count": 127,
     "metadata": {},
     "output_type": "execute_result"
    }
   ],
   "source": [
    "len(mixedSamples)"
   ]
  },
  {
   "cell_type": "code",
   "execution_count": 119,
   "id": "bf6db393",
   "metadata": {},
   "outputs": [
    {
     "data": {
      "text/plain": [
       "[73,\n",
       " 75,\n",
       " 76,\n",
       " 77,\n",
       " 78,\n",
       " 79,\n",
       " 81,\n",
       " 82,\n",
       " 84,\n",
       " 85,\n",
       " 86,\n",
       " 88,\n",
       " 90,\n",
       " 91,\n",
       " 92,\n",
       " 93,\n",
       " 94,\n",
       " 95,\n",
       " 97,\n",
       " 99,\n",
       " 101,\n",
       " 103,\n",
       " 104,\n",
       " 105,\n",
       " 106,\n",
       " 109,\n",
       " 110,\n",
       " 111,\n",
       " 112,\n",
       " 113,\n",
       " 114,\n",
       " 125,\n",
       " 132,\n",
       " 133,\n",
       " 135,\n",
       " 136,\n",
       " 139,\n",
       " 142,\n",
       " 160,\n",
       " 166,\n",
       " 174,\n",
       " 179]"
      ]
     },
     "execution_count": 119,
     "metadata": {},
     "output_type": "execute_result"
    }
   ],
   "source": []
  },
  {
   "cell_type": "code",
   "execution_count": 98,
   "id": "f12e81e2",
   "metadata": {},
   "outputs": [
    {
     "data": {
      "text/html": [
       "<div>\n",
       "<style scoped>\n",
       "    .dataframe tbody tr th:only-of-type {\n",
       "        vertical-align: middle;\n",
       "    }\n",
       "\n",
       "    .dataframe tbody tr th {\n",
       "        vertical-align: top;\n",
       "    }\n",
       "\n",
       "    .dataframe thead th {\n",
       "        text-align: right;\n",
       "    }\n",
       "</style>\n",
       "<table border=\"1\" class=\"dataframe\">\n",
       "  <thead>\n",
       "    <tr style=\"text-align: right;\">\n",
       "      <th></th>\n",
       "      <th>Sample Number</th>\n",
       "      <th>Index</th>\n",
       "      <th>Row</th>\n",
       "      <th>Column</th>\n",
       "      <th>Label</th>\n",
       "      <th>Edge</th>\n",
       "      <th>Boundary</th>\n",
       "    </tr>\n",
       "  </thead>\n",
       "  <tbody>\n",
       "    <tr>\n",
       "      <th>PS90_1_100_2800_5600.tif</th>\n",
       "      <td>90</td>\n",
       "      <td>100</td>\n",
       "      <td>2800</td>\n",
       "      <td>5600</td>\n",
       "      <td>1</td>\n",
       "      <td>1</td>\n",
       "      <td>1</td>\n",
       "    </tr>\n",
       "    <tr>\n",
       "      <th>PS90_1_101_2800_6000.tif</th>\n",
       "      <td>90</td>\n",
       "      <td>101</td>\n",
       "      <td>2800</td>\n",
       "      <td>6000</td>\n",
       "      <td>1</td>\n",
       "      <td>1</td>\n",
       "      <td>1</td>\n",
       "    </tr>\n",
       "    <tr>\n",
       "      <th>PS90_1_102_2800_6400.tif</th>\n",
       "      <td>90</td>\n",
       "      <td>102</td>\n",
       "      <td>2800</td>\n",
       "      <td>6400</td>\n",
       "      <td>1</td>\n",
       "      <td>1</td>\n",
       "      <td>1</td>\n",
       "    </tr>\n",
       "    <tr>\n",
       "      <th>PS90_1_103_2800_6800.tif</th>\n",
       "      <td>90</td>\n",
       "      <td>103</td>\n",
       "      <td>2800</td>\n",
       "      <td>6800</td>\n",
       "      <td>1</td>\n",
       "      <td>1</td>\n",
       "      <td>1</td>\n",
       "    </tr>\n",
       "    <tr>\n",
       "      <th>PS90_1_104_2800_7200.tif</th>\n",
       "      <td>90</td>\n",
       "      <td>104</td>\n",
       "      <td>2800</td>\n",
       "      <td>7200</td>\n",
       "      <td>1</td>\n",
       "      <td>1</td>\n",
       "      <td>1</td>\n",
       "    </tr>\n",
       "    <tr>\n",
       "      <th>...</th>\n",
       "      <td>...</td>\n",
       "      <td>...</td>\n",
       "      <td>...</td>\n",
       "      <td>...</td>\n",
       "      <td>...</td>\n",
       "      <td>...</td>\n",
       "      <td>...</td>\n",
       "    </tr>\n",
       "    <tr>\n",
       "      <th>PS90_1_96_2800_4000.tif</th>\n",
       "      <td>90</td>\n",
       "      <td>96</td>\n",
       "      <td>2800</td>\n",
       "      <td>4000</td>\n",
       "      <td>1</td>\n",
       "      <td>1</td>\n",
       "      <td>1</td>\n",
       "    </tr>\n",
       "    <tr>\n",
       "      <th>PS90_1_97_2800_4400.tif</th>\n",
       "      <td>90</td>\n",
       "      <td>97</td>\n",
       "      <td>2800</td>\n",
       "      <td>4400</td>\n",
       "      <td>1</td>\n",
       "      <td>1</td>\n",
       "      <td>1</td>\n",
       "    </tr>\n",
       "    <tr>\n",
       "      <th>PS90_1_98_2800_4800.tif</th>\n",
       "      <td>90</td>\n",
       "      <td>98</td>\n",
       "      <td>2800</td>\n",
       "      <td>4800</td>\n",
       "      <td>1</td>\n",
       "      <td>1</td>\n",
       "      <td>1</td>\n",
       "    </tr>\n",
       "    <tr>\n",
       "      <th>PS90_1_99_2800_5200.tif</th>\n",
       "      <td>90</td>\n",
       "      <td>99</td>\n",
       "      <td>2800</td>\n",
       "      <td>5200</td>\n",
       "      <td>1</td>\n",
       "      <td>1</td>\n",
       "      <td>1</td>\n",
       "    </tr>\n",
       "    <tr>\n",
       "      <th>PS90_1_9_1200_6800.tif</th>\n",
       "      <td>90</td>\n",
       "      <td>9</td>\n",
       "      <td>1200</td>\n",
       "      <td>6800</td>\n",
       "      <td>1</td>\n",
       "      <td>2</td>\n",
       "      <td>1</td>\n",
       "    </tr>\n",
       "  </tbody>\n",
       "</table>\n",
       "<p>327 rows × 7 columns</p>\n",
       "</div>"
      ],
      "text/plain": [
       "                          Sample Number  Index   Row  Column  Label  Edge  \\\n",
       "PS90_1_100_2800_5600.tif             90    100  2800    5600      1     1   \n",
       "PS90_1_101_2800_6000.tif             90    101  2800    6000      1     1   \n",
       "PS90_1_102_2800_6400.tif             90    102  2800    6400      1     1   \n",
       "PS90_1_103_2800_6800.tif             90    103  2800    6800      1     1   \n",
       "PS90_1_104_2800_7200.tif             90    104  2800    7200      1     1   \n",
       "...                                 ...    ...   ...     ...    ...   ...   \n",
       "PS90_1_96_2800_4000.tif              90     96  2800    4000      1     1   \n",
       "PS90_1_97_2800_4400.tif              90     97  2800    4400      1     1   \n",
       "PS90_1_98_2800_4800.tif              90     98  2800    4800      1     1   \n",
       "PS90_1_99_2800_5200.tif              90     99  2800    5200      1     1   \n",
       "PS90_1_9_1200_6800.tif               90      9  1200    6800      1     2   \n",
       "\n",
       "                          Boundary  \n",
       "PS90_1_100_2800_5600.tif         1  \n",
       "PS90_1_101_2800_6000.tif         1  \n",
       "PS90_1_102_2800_6400.tif         1  \n",
       "PS90_1_103_2800_6800.tif         1  \n",
       "PS90_1_104_2800_7200.tif         1  \n",
       "...                            ...  \n",
       "PS90_1_96_2800_4000.tif          1  \n",
       "PS90_1_97_2800_4400.tif          1  \n",
       "PS90_1_98_2800_4800.tif          1  \n",
       "PS90_1_99_2800_5200.tif          1  \n",
       "PS90_1_9_1200_6800.tif           1  \n",
       "\n",
       "[327 rows x 7 columns]"
      ]
     },
     "execution_count": 98,
     "metadata": {},
     "output_type": "execute_result"
    }
   ],
   "source": [
    "metadata.loc[metadata['Sample Number'] == 90]"
   ]
  },
  {
   "cell_type": "code",
   "execution_count": 90,
   "id": "981c18ba",
   "metadata": {},
   "outputs": [
    {
     "data": {
      "text/plain": [
       "'72_1'"
      ]
     },
     "execution_count": 90,
     "metadata": {},
     "output_type": "execute_result"
    }
   ],
   "source": [
    "sampleName"
   ]
  },
  {
   "cell_type": "code",
   "execution_count": null,
   "id": "818f17de",
   "metadata": {},
   "outputs": [],
   "source": []
  },
  {
   "cell_type": "code",
   "execution_count": null,
   "id": "77fd786a",
   "metadata": {},
   "outputs": [],
   "source": []
  },
  {
   "cell_type": "code",
   "execution_count": null,
   "id": "0889b85c",
   "metadata": {},
   "outputs": [],
   "source": []
  }
 ],
 "metadata": {
  "kernelspec": {
   "display_name": "Python 3 (ipykernel)",
   "language": "python",
   "name": "python3"
  },
  "language_info": {
   "codemirror_mode": {
    "name": "ipython",
    "version": 3
   },
   "file_extension": ".py",
   "mimetype": "text/x-python",
   "name": "python",
   "nbconvert_exporter": "python",
   "pygments_lexer": "ipython3",
   "version": "3.11.8"
  }
 },
 "nbformat": 4,
 "nbformat_minor": 5
}
